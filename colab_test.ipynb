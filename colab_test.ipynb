{
  "nbformat": 4,
  "nbformat_minor": 0,
  "metadata": {
    "colab": {
      "name": ".ipynb",
      "provenance": [],
      "collapsed_sections": [],
      "authorship_tag": "ABX9TyObfcFM4eXlfv8FiSZMggvw",
      "include_colab_link": true
    },
    "kernelspec": {
      "name": "python3",
      "display_name": "Python 3"
    },
    "accelerator": "GPU"
  },
  "cells": [
    {
      "cell_type": "markdown",
      "metadata": {
        "id": "view-in-github",
        "colab_type": "text"
      },
      "source": [
        "<a href=\"https://colab.research.google.com/github/zakariahasan/Deep-Learning/blob/master/colab_test.ipynb\" target=\"_parent\"><img src=\"https://colab.research.google.com/assets/colab-badge.svg\" alt=\"Open In Colab\"/></a>"
      ]
    },
    {
      "cell_type": "code",
      "metadata": {
        "id": "YAOD7XOKFbPh",
        "colab_type": "code",
        "colab": {}
      },
      "source": [
        "# Importing the libraries\n",
        "import numpy as np\n",
        "import matplotlib.pyplot as plt\n",
        "import pandas as pd"
      ],
      "execution_count": 1,
      "outputs": []
    },
    {
      "cell_type": "code",
      "metadata": {
        "id": "70wwslHPdY-w",
        "colab_type": "code",
        "colab": {
          "base_uri": "https://localhost:8080/",
          "height": 34
        },
        "outputId": "f4d615a5-36f5-438c-e241-937a4a77a8e3"
      },
      "source": [
        "from google.colab import drive\n",
        "drive.mount(\"/content/drive\")"
      ],
      "execution_count": 2,
      "outputs": [
        {
          "output_type": "stream",
          "text": [
            "Mounted at /content/drive\n"
          ],
          "name": "stdout"
        }
      ]
    },
    {
      "cell_type": "code",
      "metadata": {
        "id": "1m5FuZkJde4m",
        "colab_type": "code",
        "colab": {}
      },
      "source": [
        "# Importing the dataset\n",
        "dataset = pd.read_csv('/content/drive/My Drive/ML&DL/Data/Churn_Modelling.csv')\n",
        "X = dataset.iloc[:, 3:13]\n",
        "y = dataset.iloc[:, 13].values\n"
      ],
      "execution_count": 3,
      "outputs": []
    },
    {
      "cell_type": "code",
      "metadata": {
        "id": "259dcbC6dfUl",
        "colab_type": "code",
        "colab": {}
      },
      "source": [
        "#Create dummy variables\n",
        "geography=pd.get_dummies(X[\"Geography\"],drop_first=True)\n",
        "gender=pd.get_dummies(X['Gender'],drop_first=True)\n"
      ],
      "execution_count": 4,
      "outputs": []
    },
    {
      "cell_type": "code",
      "metadata": {
        "id": "luuvch-3dfrZ",
        "colab_type": "code",
        "colab": {}
      },
      "source": [
        "## Concatenate the Data Frames\n",
        "X=pd.concat([X,geography,gender],axis=1)\n"
      ],
      "execution_count": 5,
      "outputs": []
    },
    {
      "cell_type": "code",
      "metadata": {
        "id": "uNhQFLpOdf7l",
        "colab_type": "code",
        "colab": {}
      },
      "source": [
        "## Drop Unnecessary columns\n",
        "X=X.drop(['Geography','Gender'],axis=1)"
      ],
      "execution_count": 6,
      "outputs": []
    },
    {
      "cell_type": "code",
      "metadata": {
        "id": "c8Y2oE_pdgE-",
        "colab_type": "code",
        "colab": {}
      },
      "source": [
        "# Splitting the dataset into the Training set and Test set\n",
        "from sklearn.model_selection import train_test_split\n",
        "X_train, X_test, y_train, y_test = train_test_split(X, y, test_size = 0.2, random_state = 0)"
      ],
      "execution_count": 7,
      "outputs": []
    },
    {
      "cell_type": "code",
      "metadata": {
        "id": "_UL4a5kCdgN9",
        "colab_type": "code",
        "colab": {}
      },
      "source": [
        "# Feature Scaling\n",
        "from sklearn.preprocessing import StandardScaler\n",
        "sc = StandardScaler()\n",
        "X_train = sc.fit_transform(X_train)\n",
        "X_test = sc.transform(X_test)"
      ],
      "execution_count": 8,
      "outputs": []
    },
    {
      "cell_type": "code",
      "metadata": {
        "id": "myXpHnepf_Nq",
        "colab_type": "code",
        "colab": {}
      },
      "source": [
        "## Perform Hyperparameter Optimization with Scikit_learn Wrapper"
      ],
      "execution_count": 9,
      "outputs": []
    },
    {
      "cell_type": "code",
      "metadata": {
        "id": "J1HQrADgf_qK",
        "colab_type": "code",
        "colab": {}
      },
      "source": [
        "from tensorflow.keras.wrappers.scikit_learn import KerasClassifier\n",
        "from sklearn.model_selection import GridSearchCV\n",
        "\n",
        "from tensorflow.keras.models import Sequential\n",
        "from tensorflow.keras.layers import Dense, Activation, Embedding, Flatten, LeakyReLU, BatchNormalization, Dropout\n",
        "from tensorflow.keras.activations import relu, sigmoid"
      ],
      "execution_count": 10,
      "outputs": []
    },
    {
      "cell_type": "code",
      "metadata": {
        "id": "V1z6IYMcf_3r",
        "colab_type": "code",
        "colab": {}
      },
      "source": [
        "def create_model(layers, activation):\n",
        "    model = Sequential()\n",
        "    for i, nodes in enumerate(layers):\n",
        "        if i==0:\n",
        "            model.add(Dense(nodes,input_dim=X_train.shape[1]))\n",
        "            model.add(Activation(activation))\n",
        "            model.add(Dropout(0.3))\n",
        "        else:\n",
        "            model.add(Dense(nodes))\n",
        "            model.add(Activation(activation))\n",
        "            model.add(Dropout(0.3))\n",
        "            \n",
        "    model.add(Dense(units = 1, kernel_initializer= 'glorot_uniform', activation = 'sigmoid')) \n",
        "    \n",
        "    model.compile(optimizer='adam', loss='binary_crossentropy',metrics=['accuracy'])\n",
        "    return model"
      ],
      "execution_count": 11,
      "outputs": []
    },
    {
      "cell_type": "code",
      "metadata": {
        "id": "6H5XpUEtgG5c",
        "colab_type": "code",
        "colab": {}
      },
      "source": [
        "model = KerasClassifier(build_fn=create_model, verbose=0)"
      ],
      "execution_count": 12,
      "outputs": []
    },
    {
      "cell_type": "code",
      "metadata": {
        "id": "KAg8u4NYgID8",
        "colab_type": "code",
        "colab": {
          "base_uri": "https://localhost:8080/",
          "height": 51
        },
        "outputId": "5e2408cc-a9e1-4355-d418-97a456a23062"
      },
      "source": [
        "%%time\n",
        "layers = ([20],(21,40), (45, 30, 15))\n",
        "activations = ('sigmoid', 'relu')\n",
        "param_grid = dict(layers=layers, activation=activations, batch_size = (128, 256), epochs=[30])\n",
        "grid = GridSearchCV(estimator=model, param_grid=param_grid,cv=5)\n",
        "\n",
        "grid_result = grid.fit(X_train, y_train)\n",
        "\n",
        "[grid_result.best_score_,grid_result.best_params_]\n"
      ],
      "execution_count": 13,
      "outputs": [
        {
          "output_type": "stream",
          "text": [
            "CPU times: user 2min 26s, sys: 10.9 s, total: 2min 37s\n",
            "Wall time: 2min 16s\n"
          ],
          "name": "stdout"
        }
      ]
    },
    {
      "cell_type": "code",
      "metadata": {
        "id": "2OF4045DhrYT",
        "colab_type": "code",
        "colab": {
          "base_uri": "https://localhost:8080/",
          "height": 153
        },
        "outputId": "0235e8d5-61ee-4d4c-dfbe-c1ac770fe828"
      },
      "source": [
        "grid_result"
      ],
      "execution_count": 14,
      "outputs": [
        {
          "output_type": "execute_result",
          "data": {
            "text/plain": [
              "GridSearchCV(cv=5, error_score=nan,\n",
              "             estimator=<tensorflow.python.keras.wrappers.scikit_learn.KerasClassifier object at 0x7f2bebf4d9b0>,\n",
              "             iid='deprecated', n_jobs=None,\n",
              "             param_grid={'activation': ('sigmoid', 'relu'),\n",
              "                         'batch_size': (128, 256), 'epochs': [30],\n",
              "                         'layers': ([20], (21, 40), (45, 30, 15))},\n",
              "             pre_dispatch='2*n_jobs', refit=True, return_train_score=False,\n",
              "             scoring=None, verbose=0)"
            ]
          },
          "metadata": {
            "tags": []
          },
          "execution_count": 14
        }
      ]
    },
    {
      "cell_type": "code",
      "metadata": {
        "id": "Wrj6OSLJgM0d",
        "colab_type": "code",
        "colab": {}
      },
      "source": [
        "#!pip install -q -U keras-tuner\n",
        "import kerastuner as kt"
      ],
      "execution_count": 16,
      "outputs": []
    },
    {
      "cell_type": "code",
      "metadata": {
        "id": "iVU_L-w2gQYl",
        "colab_type": "code",
        "colab": {}
      },
      "source": [
        "## Perform Hyperparameter Optimization with Kerastuner"
      ],
      "execution_count": 17,
      "outputs": []
    },
    {
      "cell_type": "code",
      "metadata": {
        "id": "267G3v3qgRRf",
        "colab_type": "code",
        "colab": {}
      },
      "source": [
        "from tensorflow import keras\n",
        "from tensorflow.keras import layers\n",
        "from kerastuner.tuners import RandomSearch\n",
        "\n",
        "\n",
        "def build_model(hp):\n",
        "    model = keras.Sequential()\n",
        "    model.add(layers.Dense(units=hp.Int('units',\n",
        "                                        min_value=32,\n",
        "                                        max_value=512,\n",
        "                                        step=32),\n",
        "                           activation='relu',input_dim=X_train.shape[1]))\n",
        "    model.add(layers.Dense(1, activation='sigmoid',kernel_initializer= 'glorot_uniform'))\n",
        "    model.compile(\n",
        "        optimizer=keras.optimizers.Adam(\n",
        "            hp.Choice('learning_rate',\n",
        "                      values=[1e-2, 1e-3, 1e-4])),\n",
        "        loss='binary_crossentropy',\n",
        "        metrics=['accuracy'])\n",
        "    return model"
      ],
      "execution_count": 18,
      "outputs": []
    },
    {
      "cell_type": "code",
      "metadata": {
        "id": "UdKxUJLQgUzd",
        "colab_type": "code",
        "colab": {}
      },
      "source": [
        "tuner = RandomSearch(\n",
        "    build_model,\n",
        "    objective='val_accuracy',\n",
        "    max_trials=5,\n",
        "    executions_per_trial=3,\n",
        "    directory='my_dir',\n",
        "    project_name='test_pro')"
      ],
      "execution_count": 19,
      "outputs": []
    },
    {
      "cell_type": "code",
      "metadata": {
        "id": "K8kLzQilgXTm",
        "colab_type": "code",
        "colab": {
          "base_uri": "https://localhost:8080/",
          "height": 281
        },
        "outputId": "91844047-e117-4f31-ec3b-1d61315b5851"
      },
      "source": [
        "tuner.search_space_summary()"
      ],
      "execution_count": 20,
      "outputs": [
        {
          "output_type": "display_data",
          "data": {
            "text/html": [
              "<span style=\"color:#4527A0\"><h1 style=\"font-size:18px\">Search space summary</h1></span>"
            ],
            "text/plain": [
              "<IPython.core.display.HTML object>"
            ]
          },
          "metadata": {
            "tags": []
          }
        },
        {
          "output_type": "display_data",
          "data": {
            "text/html": [
              "<span style=\"color:cyan\"> |-Default search space size: 2</span>"
            ],
            "text/plain": [
              "<IPython.core.display.HTML object>"
            ]
          },
          "metadata": {
            "tags": []
          }
        },
        {
          "output_type": "display_data",
          "data": {
            "text/html": [
              "<span style=\"color:#7E57C2\"><h2 style=\"font-size:16px\">units (Int)</h2></span>"
            ],
            "text/plain": [
              "<IPython.core.display.HTML object>"
            ]
          },
          "metadata": {
            "tags": []
          }
        },
        {
          "output_type": "display_data",
          "data": {
            "text/html": [
              "<span style=\"color:cyan\"> |-default: None</span>"
            ],
            "text/plain": [
              "<IPython.core.display.HTML object>"
            ]
          },
          "metadata": {
            "tags": []
          }
        },
        {
          "output_type": "display_data",
          "data": {
            "text/html": [
              "<span style=\"color:blue\"> |-max_value: 512</span>"
            ],
            "text/plain": [
              "<IPython.core.display.HTML object>"
            ]
          },
          "metadata": {
            "tags": []
          }
        },
        {
          "output_type": "display_data",
          "data": {
            "text/html": [
              "<span style=\"color:cyan\"> |-min_value: 32</span>"
            ],
            "text/plain": [
              "<IPython.core.display.HTML object>"
            ]
          },
          "metadata": {
            "tags": []
          }
        },
        {
          "output_type": "display_data",
          "data": {
            "text/html": [
              "<span style=\"color:blue\"> |-sampling: None</span>"
            ],
            "text/plain": [
              "<IPython.core.display.HTML object>"
            ]
          },
          "metadata": {
            "tags": []
          }
        },
        {
          "output_type": "display_data",
          "data": {
            "text/html": [
              "<span style=\"color:cyan\"> |-step: 32</span>"
            ],
            "text/plain": [
              "<IPython.core.display.HTML object>"
            ]
          },
          "metadata": {
            "tags": []
          }
        },
        {
          "output_type": "display_data",
          "data": {
            "text/html": [
              "<span style=\"color:#7E57C2\"><h2 style=\"font-size:16px\">learning_rate (Choice)</h2></span>"
            ],
            "text/plain": [
              "<IPython.core.display.HTML object>"
            ]
          },
          "metadata": {
            "tags": []
          }
        },
        {
          "output_type": "display_data",
          "data": {
            "text/html": [
              "<span style=\"color:cyan\"> |-default: 0.01</span>"
            ],
            "text/plain": [
              "<IPython.core.display.HTML object>"
            ]
          },
          "metadata": {
            "tags": []
          }
        },
        {
          "output_type": "display_data",
          "data": {
            "text/html": [
              "<span style=\"color:blue\"> |-ordered: True</span>"
            ],
            "text/plain": [
              "<IPython.core.display.HTML object>"
            ]
          },
          "metadata": {
            "tags": []
          }
        },
        {
          "output_type": "display_data",
          "data": {
            "text/html": [
              "<span style=\"color:cyan\"> |-values: [0.01, 0.001, 0.0001]</span>"
            ],
            "text/plain": [
              "<IPython.core.display.HTML object>"
            ]
          },
          "metadata": {
            "tags": []
          }
        }
      ]
    },
    {
      "cell_type": "code",
      "metadata": {
        "id": "oV21YCqggcCv",
        "colab_type": "code",
        "colab": {
          "base_uri": "https://localhost:8080/",
          "height": 1000
        },
        "outputId": "2a9832bf-faa3-4b70-9831-d126d513e836"
      },
      "source": [
        "tuner.search(X_train, y_train,\n",
        "             epochs=5,\n",
        "             validation_data=(X_test, y_test))"
      ],
      "execution_count": 21,
      "outputs": [
        {
          "output_type": "stream",
          "text": [
            "Epoch 1/5\n",
            "250/250 [==============================] - 1s 3ms/step - loss: 0.4704 - accuracy: 0.7870 - val_loss: 0.4189 - val_accuracy: 0.8160\n",
            "Epoch 2/5\n",
            "250/250 [==============================] - 1s 2ms/step - loss: 0.4084 - accuracy: 0.8273 - val_loss: 0.3917 - val_accuracy: 0.8355\n",
            "Epoch 3/5\n",
            "250/250 [==============================] - 1s 3ms/step - loss: 0.3856 - accuracy: 0.8386 - val_loss: 0.3692 - val_accuracy: 0.8505\n",
            "Epoch 4/5\n",
            "250/250 [==============================] - 1s 3ms/step - loss: 0.3682 - accuracy: 0.8486 - val_loss: 0.3576 - val_accuracy: 0.8550\n",
            "Epoch 5/5\n",
            "250/250 [==============================] - 1s 2ms/step - loss: 0.3583 - accuracy: 0.8530 - val_loss: 0.3505 - val_accuracy: 0.8580\n",
            "Epoch 1/5\n",
            "250/250 [==============================] - 1s 3ms/step - loss: 0.4755 - accuracy: 0.7903 - val_loss: 0.4183 - val_accuracy: 0.8265\n",
            "Epoch 2/5\n",
            "250/250 [==============================] - 1s 3ms/step - loss: 0.4101 - accuracy: 0.8250 - val_loss: 0.3945 - val_accuracy: 0.8460\n",
            "Epoch 3/5\n",
            "250/250 [==============================] - 1s 3ms/step - loss: 0.3878 - accuracy: 0.8380 - val_loss: 0.3700 - val_accuracy: 0.8570\n",
            "Epoch 4/5\n",
            "250/250 [==============================] - 1s 3ms/step - loss: 0.3692 - accuracy: 0.8487 - val_loss: 0.3545 - val_accuracy: 0.8625\n",
            "Epoch 5/5\n",
            "250/250 [==============================] - 1s 3ms/step - loss: 0.3575 - accuracy: 0.8528 - val_loss: 0.3478 - val_accuracy: 0.8635\n",
            "Epoch 1/5\n",
            "250/250 [==============================] - 1s 3ms/step - loss: 0.4886 - accuracy: 0.7771 - val_loss: 0.4287 - val_accuracy: 0.8155\n",
            "Epoch 2/5\n",
            "250/250 [==============================] - 1s 3ms/step - loss: 0.4181 - accuracy: 0.8204 - val_loss: 0.4036 - val_accuracy: 0.8310\n",
            "Epoch 3/5\n",
            "250/250 [==============================] - 1s 3ms/step - loss: 0.3981 - accuracy: 0.8310 - val_loss: 0.3823 - val_accuracy: 0.8505\n",
            "Epoch 4/5\n",
            "250/250 [==============================] - 1s 3ms/step - loss: 0.3790 - accuracy: 0.8428 - val_loss: 0.3678 - val_accuracy: 0.8600\n",
            "Epoch 5/5\n",
            "250/250 [==============================] - 1s 3ms/step - loss: 0.3647 - accuracy: 0.8479 - val_loss: 0.3553 - val_accuracy: 0.8620\n"
          ],
          "name": "stdout"
        },
        {
          "output_type": "display_data",
          "data": {
            "text/html": [
              "<span style=\"color:#4527A0\"><h1 style=\"font-size:18px\">Trial complete</h1></span>"
            ],
            "text/plain": [
              "<IPython.core.display.HTML object>"
            ]
          },
          "metadata": {
            "tags": []
          }
        },
        {
          "output_type": "display_data",
          "data": {
            "text/html": [
              "<span style=\"color:#4527A0\"><h1 style=\"font-size:18px\">Trial summary</h1></span>"
            ],
            "text/plain": [
              "<IPython.core.display.HTML object>"
            ]
          },
          "metadata": {
            "tags": []
          }
        },
        {
          "output_type": "display_data",
          "data": {
            "text/html": [
              "<span style=\"color:cyan\"> |-Trial ID: e7df0e47bec56c8d5a785306a714a93f</span>"
            ],
            "text/plain": [
              "<IPython.core.display.HTML object>"
            ]
          },
          "metadata": {
            "tags": []
          }
        },
        {
          "output_type": "display_data",
          "data": {
            "text/html": [
              "<span style=\"color:cyan\"> |-Score: 0.8611666560173035</span>"
            ],
            "text/plain": [
              "<IPython.core.display.HTML object>"
            ]
          },
          "metadata": {
            "tags": []
          }
        },
        {
          "output_type": "display_data",
          "data": {
            "text/html": [
              "<span style=\"color:cyan\"> |-Best step: 0</span>"
            ],
            "text/plain": [
              "<IPython.core.display.HTML object>"
            ]
          },
          "metadata": {
            "tags": []
          }
        },
        {
          "output_type": "display_data",
          "data": {
            "text/html": [
              "<span style=\"color:#7E57C2\"><h2 style=\"font-size:16px\">Hyperparameters:</h2></span>"
            ],
            "text/plain": [
              "<IPython.core.display.HTML object>"
            ]
          },
          "metadata": {
            "tags": []
          }
        },
        {
          "output_type": "display_data",
          "data": {
            "text/html": [
              "<span style=\"color:cyan\"> |-learning_rate: 0.001</span>"
            ],
            "text/plain": [
              "<IPython.core.display.HTML object>"
            ]
          },
          "metadata": {
            "tags": []
          }
        },
        {
          "output_type": "display_data",
          "data": {
            "text/html": [
              "<span style=\"color:blue\"> |-units: 64</span>"
            ],
            "text/plain": [
              "<IPython.core.display.HTML object>"
            ]
          },
          "metadata": {
            "tags": []
          }
        },
        {
          "output_type": "stream",
          "text": [
            "Epoch 1/5\n",
            "250/250 [==============================] - 1s 3ms/step - loss: 0.3929 - accuracy: 0.8400 - val_loss: 0.3567 - val_accuracy: 0.8510\n",
            "Epoch 2/5\n",
            "250/250 [==============================] - 1s 3ms/step - loss: 0.3590 - accuracy: 0.8508 - val_loss: 0.3652 - val_accuracy: 0.8535\n",
            "Epoch 3/5\n",
            "250/250 [==============================] - 1s 3ms/step - loss: 0.3547 - accuracy: 0.8572 - val_loss: 0.3410 - val_accuracy: 0.8625\n",
            "Epoch 4/5\n",
            "250/250 [==============================] - 1s 3ms/step - loss: 0.3493 - accuracy: 0.8577 - val_loss: 0.3390 - val_accuracy: 0.8695\n",
            "Epoch 5/5\n",
            "250/250 [==============================] - 1s 3ms/step - loss: 0.3448 - accuracy: 0.8595 - val_loss: 0.3457 - val_accuracy: 0.8590\n",
            "Epoch 1/5\n",
            "250/250 [==============================] - 1s 3ms/step - loss: 0.3909 - accuracy: 0.8420 - val_loss: 0.3521 - val_accuracy: 0.8575\n",
            "Epoch 2/5\n",
            "250/250 [==============================] - 1s 2ms/step - loss: 0.3609 - accuracy: 0.8512 - val_loss: 0.3464 - val_accuracy: 0.8635\n",
            "Epoch 3/5\n",
            "250/250 [==============================] - 1s 3ms/step - loss: 0.3545 - accuracy: 0.8551 - val_loss: 0.3493 - val_accuracy: 0.8610\n",
            "Epoch 4/5\n",
            "250/250 [==============================] - 1s 3ms/step - loss: 0.3550 - accuracy: 0.8530 - val_loss: 0.3444 - val_accuracy: 0.8620\n",
            "Epoch 5/5\n",
            "250/250 [==============================] - 1s 3ms/step - loss: 0.3481 - accuracy: 0.8581 - val_loss: 0.3387 - val_accuracy: 0.8610\n",
            "Epoch 1/5\n",
            "250/250 [==============================] - 1s 3ms/step - loss: 0.3954 - accuracy: 0.8374 - val_loss: 0.3540 - val_accuracy: 0.8555\n",
            "Epoch 2/5\n",
            "250/250 [==============================] - 1s 2ms/step - loss: 0.3622 - accuracy: 0.8522 - val_loss: 0.3507 - val_accuracy: 0.8605\n",
            "Epoch 3/5\n",
            "250/250 [==============================] - 1s 3ms/step - loss: 0.3576 - accuracy: 0.8535 - val_loss: 0.3397 - val_accuracy: 0.8650\n",
            "Epoch 4/5\n",
            "250/250 [==============================] - 1s 3ms/step - loss: 0.3487 - accuracy: 0.8561 - val_loss: 0.3493 - val_accuracy: 0.8530\n",
            "Epoch 5/5\n",
            "250/250 [==============================] - 1s 3ms/step - loss: 0.3467 - accuracy: 0.8569 - val_loss: 0.3411 - val_accuracy: 0.8545\n"
          ],
          "name": "stdout"
        },
        {
          "output_type": "display_data",
          "data": {
            "text/html": [
              "<span style=\"color:#4527A0\"><h1 style=\"font-size:18px\">Trial complete</h1></span>"
            ],
            "text/plain": [
              "<IPython.core.display.HTML object>"
            ]
          },
          "metadata": {
            "tags": []
          }
        },
        {
          "output_type": "display_data",
          "data": {
            "text/html": [
              "<span style=\"color:#4527A0\"><h1 style=\"font-size:18px\">Trial summary</h1></span>"
            ],
            "text/plain": [
              "<IPython.core.display.HTML object>"
            ]
          },
          "metadata": {
            "tags": []
          }
        },
        {
          "output_type": "display_data",
          "data": {
            "text/html": [
              "<span style=\"color:cyan\"> |-Trial ID: 499b00ccd50ebe2bfdac85a636f28338</span>"
            ],
            "text/plain": [
              "<IPython.core.display.HTML object>"
            ]
          },
          "metadata": {
            "tags": []
          }
        },
        {
          "output_type": "display_data",
          "data": {
            "text/html": [
              "<span style=\"color:cyan\"> |-Score: 0.8659999966621399</span>"
            ],
            "text/plain": [
              "<IPython.core.display.HTML object>"
            ]
          },
          "metadata": {
            "tags": []
          }
        },
        {
          "output_type": "display_data",
          "data": {
            "text/html": [
              "<span style=\"color:cyan\"> |-Best step: 0</span>"
            ],
            "text/plain": [
              "<IPython.core.display.HTML object>"
            ]
          },
          "metadata": {
            "tags": []
          }
        },
        {
          "output_type": "display_data",
          "data": {
            "text/html": [
              "<span style=\"color:#7E57C2\"><h2 style=\"font-size:16px\">Hyperparameters:</h2></span>"
            ],
            "text/plain": [
              "<IPython.core.display.HTML object>"
            ]
          },
          "metadata": {
            "tags": []
          }
        },
        {
          "output_type": "display_data",
          "data": {
            "text/html": [
              "<span style=\"color:cyan\"> |-learning_rate: 0.01</span>"
            ],
            "text/plain": [
              "<IPython.core.display.HTML object>"
            ]
          },
          "metadata": {
            "tags": []
          }
        },
        {
          "output_type": "display_data",
          "data": {
            "text/html": [
              "<span style=\"color:blue\"> |-units: 256</span>"
            ],
            "text/plain": [
              "<IPython.core.display.HTML object>"
            ]
          },
          "metadata": {
            "tags": []
          }
        },
        {
          "output_type": "stream",
          "text": [
            "Epoch 1/5\n",
            "250/250 [==============================] - 1s 3ms/step - loss: 0.5844 - accuracy: 0.7234 - val_loss: 0.4894 - val_accuracy: 0.8025\n",
            "Epoch 2/5\n",
            "250/250 [==============================] - 1s 2ms/step - loss: 0.4627 - accuracy: 0.8026 - val_loss: 0.4404 - val_accuracy: 0.8110\n",
            "Epoch 3/5\n",
            "250/250 [==============================] - 1s 2ms/step - loss: 0.4340 - accuracy: 0.8119 - val_loss: 0.4227 - val_accuracy: 0.8195\n",
            "Epoch 4/5\n",
            "250/250 [==============================] - 1s 3ms/step - loss: 0.4209 - accuracy: 0.8175 - val_loss: 0.4124 - val_accuracy: 0.8260\n",
            "Epoch 5/5\n",
            "250/250 [==============================] - 1s 3ms/step - loss: 0.4124 - accuracy: 0.8226 - val_loss: 0.4042 - val_accuracy: 0.8275\n",
            "Epoch 1/5\n",
            "250/250 [==============================] - 1s 3ms/step - loss: 0.5669 - accuracy: 0.7552 - val_loss: 0.4867 - val_accuracy: 0.7975\n",
            "Epoch 2/5\n",
            "250/250 [==============================] - 1s 2ms/step - loss: 0.4619 - accuracy: 0.7985 - val_loss: 0.4422 - val_accuracy: 0.8065\n",
            "Epoch 3/5\n",
            "250/250 [==============================] - 1s 2ms/step - loss: 0.4348 - accuracy: 0.8084 - val_loss: 0.4242 - val_accuracy: 0.8170\n",
            "Epoch 4/5\n",
            "250/250 [==============================] - 1s 3ms/step - loss: 0.4217 - accuracy: 0.8160 - val_loss: 0.4132 - val_accuracy: 0.8215\n",
            "Epoch 5/5\n",
            "250/250 [==============================] - 1s 2ms/step - loss: 0.4132 - accuracy: 0.8213 - val_loss: 0.4051 - val_accuracy: 0.8265\n",
            "Epoch 1/5\n",
            "250/250 [==============================] - 1s 3ms/step - loss: 0.5266 - accuracy: 0.7959 - val_loss: 0.4683 - val_accuracy: 0.8045\n",
            "Epoch 2/5\n",
            "250/250 [==============================] - 1s 3ms/step - loss: 0.4515 - accuracy: 0.8036 - val_loss: 0.4349 - val_accuracy: 0.8145\n",
            "Epoch 3/5\n",
            "250/250 [==============================] - 1s 3ms/step - loss: 0.4310 - accuracy: 0.8131 - val_loss: 0.4209 - val_accuracy: 0.8195\n",
            "Epoch 4/5\n",
            "250/250 [==============================] - 1s 3ms/step - loss: 0.4204 - accuracy: 0.8176 - val_loss: 0.4115 - val_accuracy: 0.8250\n",
            "Epoch 5/5\n",
            "250/250 [==============================] - 1s 3ms/step - loss: 0.4130 - accuracy: 0.8214 - val_loss: 0.4044 - val_accuracy: 0.8290\n"
          ],
          "name": "stdout"
        },
        {
          "output_type": "display_data",
          "data": {
            "text/html": [
              "<span style=\"color:#4527A0\"><h1 style=\"font-size:18px\">Trial complete</h1></span>"
            ],
            "text/plain": [
              "<IPython.core.display.HTML object>"
            ]
          },
          "metadata": {
            "tags": []
          }
        },
        {
          "output_type": "display_data",
          "data": {
            "text/html": [
              "<span style=\"color:#4527A0\"><h1 style=\"font-size:18px\">Trial summary</h1></span>"
            ],
            "text/plain": [
              "<IPython.core.display.HTML object>"
            ]
          },
          "metadata": {
            "tags": []
          }
        },
        {
          "output_type": "display_data",
          "data": {
            "text/html": [
              "<span style=\"color:cyan\"> |-Trial ID: e7da8b87a59e552878e7dc1b327dcf99</span>"
            ],
            "text/plain": [
              "<IPython.core.display.HTML object>"
            ]
          },
          "metadata": {
            "tags": []
          }
        },
        {
          "output_type": "display_data",
          "data": {
            "text/html": [
              "<span style=\"color:cyan\"> |-Score: 0.8276666601498922</span>"
            ],
            "text/plain": [
              "<IPython.core.display.HTML object>"
            ]
          },
          "metadata": {
            "tags": []
          }
        },
        {
          "output_type": "display_data",
          "data": {
            "text/html": [
              "<span style=\"color:cyan\"> |-Best step: 0</span>"
            ],
            "text/plain": [
              "<IPython.core.display.HTML object>"
            ]
          },
          "metadata": {
            "tags": []
          }
        },
        {
          "output_type": "display_data",
          "data": {
            "text/html": [
              "<span style=\"color:#7E57C2\"><h2 style=\"font-size:16px\">Hyperparameters:</h2></span>"
            ],
            "text/plain": [
              "<IPython.core.display.HTML object>"
            ]
          },
          "metadata": {
            "tags": []
          }
        },
        {
          "output_type": "display_data",
          "data": {
            "text/html": [
              "<span style=\"color:cyan\"> |-learning_rate: 0.0001</span>"
            ],
            "text/plain": [
              "<IPython.core.display.HTML object>"
            ]
          },
          "metadata": {
            "tags": []
          }
        },
        {
          "output_type": "display_data",
          "data": {
            "text/html": [
              "<span style=\"color:blue\"> |-units: 448</span>"
            ],
            "text/plain": [
              "<IPython.core.display.HTML object>"
            ]
          },
          "metadata": {
            "tags": []
          }
        },
        {
          "output_type": "stream",
          "text": [
            "Epoch 1/5\n",
            "250/250 [==============================] - 1s 3ms/step - loss: 0.4331 - accuracy: 0.8105 - val_loss: 0.3841 - val_accuracy: 0.8455\n",
            "Epoch 2/5\n",
            "250/250 [==============================] - 1s 3ms/step - loss: 0.3742 - accuracy: 0.8468 - val_loss: 0.3559 - val_accuracy: 0.8555\n",
            "Epoch 3/5\n",
            "250/250 [==============================] - 1s 3ms/step - loss: 0.3552 - accuracy: 0.8545 - val_loss: 0.3469 - val_accuracy: 0.8640\n",
            "Epoch 4/5\n",
            "250/250 [==============================] - 1s 3ms/step - loss: 0.3471 - accuracy: 0.8596 - val_loss: 0.3464 - val_accuracy: 0.8545\n",
            "Epoch 5/5\n",
            "250/250 [==============================] - 1s 3ms/step - loss: 0.3449 - accuracy: 0.8591 - val_loss: 0.3420 - val_accuracy: 0.8590\n",
            "Epoch 1/5\n",
            "250/250 [==============================] - 1s 3ms/step - loss: 0.4449 - accuracy: 0.7981 - val_loss: 0.3806 - val_accuracy: 0.8490\n",
            "Epoch 2/5\n",
            "250/250 [==============================] - 1s 2ms/step - loss: 0.3729 - accuracy: 0.8456 - val_loss: 0.3505 - val_accuracy: 0.8580\n",
            "Epoch 3/5\n",
            "250/250 [==============================] - 1s 3ms/step - loss: 0.3548 - accuracy: 0.8540 - val_loss: 0.3527 - val_accuracy: 0.8570\n",
            "Epoch 4/5\n",
            "250/250 [==============================] - 1s 3ms/step - loss: 0.3474 - accuracy: 0.8577 - val_loss: 0.3463 - val_accuracy: 0.8575\n",
            "Epoch 5/5\n",
            "250/250 [==============================] - 1s 2ms/step - loss: 0.3448 - accuracy: 0.8602 - val_loss: 0.3449 - val_accuracy: 0.8660\n",
            "Epoch 1/5\n",
            "250/250 [==============================] - 1s 3ms/step - loss: 0.4352 - accuracy: 0.8116 - val_loss: 0.3886 - val_accuracy: 0.8445\n",
            "Epoch 2/5\n",
            "250/250 [==============================] - 1s 3ms/step - loss: 0.3741 - accuracy: 0.8494 - val_loss: 0.3562 - val_accuracy: 0.8570\n",
            "Epoch 3/5\n",
            "250/250 [==============================] - 1s 3ms/step - loss: 0.3540 - accuracy: 0.8560 - val_loss: 0.3465 - val_accuracy: 0.8635\n",
            "Epoch 4/5\n",
            "250/250 [==============================] - 1s 3ms/step - loss: 0.3486 - accuracy: 0.8583 - val_loss: 0.3483 - val_accuracy: 0.8565\n",
            "Epoch 5/5\n",
            "250/250 [==============================] - 1s 3ms/step - loss: 0.3445 - accuracy: 0.8590 - val_loss: 0.3463 - val_accuracy: 0.8620\n"
          ],
          "name": "stdout"
        },
        {
          "output_type": "display_data",
          "data": {
            "text/html": [
              "<span style=\"color:#4527A0\"><h1 style=\"font-size:18px\">Trial complete</h1></span>"
            ],
            "text/plain": [
              "<IPython.core.display.HTML object>"
            ]
          },
          "metadata": {
            "tags": []
          }
        },
        {
          "output_type": "display_data",
          "data": {
            "text/html": [
              "<span style=\"color:#4527A0\"><h1 style=\"font-size:18px\">Trial summary</h1></span>"
            ],
            "text/plain": [
              "<IPython.core.display.HTML object>"
            ]
          },
          "metadata": {
            "tags": []
          }
        },
        {
          "output_type": "display_data",
          "data": {
            "text/html": [
              "<span style=\"color:cyan\"> |-Trial ID: f9313a15bdf56c707b0209a167b01e4b</span>"
            ],
            "text/plain": [
              "<IPython.core.display.HTML object>"
            ]
          },
          "metadata": {
            "tags": []
          }
        },
        {
          "output_type": "display_data",
          "data": {
            "text/html": [
              "<span style=\"color:cyan\"> |-Score: 0.8645000060399374</span>"
            ],
            "text/plain": [
              "<IPython.core.display.HTML object>"
            ]
          },
          "metadata": {
            "tags": []
          }
        },
        {
          "output_type": "display_data",
          "data": {
            "text/html": [
              "<span style=\"color:cyan\"> |-Best step: 0</span>"
            ],
            "text/plain": [
              "<IPython.core.display.HTML object>"
            ]
          },
          "metadata": {
            "tags": []
          }
        },
        {
          "output_type": "display_data",
          "data": {
            "text/html": [
              "<span style=\"color:#7E57C2\"><h2 style=\"font-size:16px\">Hyperparameters:</h2></span>"
            ],
            "text/plain": [
              "<IPython.core.display.HTML object>"
            ]
          },
          "metadata": {
            "tags": []
          }
        },
        {
          "output_type": "display_data",
          "data": {
            "text/html": [
              "<span style=\"color:cyan\"> |-learning_rate: 0.001</span>"
            ],
            "text/plain": [
              "<IPython.core.display.HTML object>"
            ]
          },
          "metadata": {
            "tags": []
          }
        },
        {
          "output_type": "display_data",
          "data": {
            "text/html": [
              "<span style=\"color:blue\"> |-units: 352</span>"
            ],
            "text/plain": [
              "<IPython.core.display.HTML object>"
            ]
          },
          "metadata": {
            "tags": []
          }
        },
        {
          "output_type": "stream",
          "text": [
            "Epoch 1/5\n",
            "250/250 [==============================] - 1s 3ms/step - loss: 0.5853 - accuracy: 0.7398 - val_loss: 0.5027 - val_accuracy: 0.7975\n",
            "Epoch 2/5\n",
            "250/250 [==============================] - 1s 3ms/step - loss: 0.4749 - accuracy: 0.7970 - val_loss: 0.4518 - val_accuracy: 0.8010\n",
            "Epoch 3/5\n",
            "250/250 [==============================] - 1s 3ms/step - loss: 0.4439 - accuracy: 0.8031 - val_loss: 0.4308 - val_accuracy: 0.8100\n",
            "Epoch 4/5\n",
            "250/250 [==============================] - 1s 3ms/step - loss: 0.4294 - accuracy: 0.8119 - val_loss: 0.4198 - val_accuracy: 0.8180\n",
            "Epoch 5/5\n",
            "250/250 [==============================] - 1s 3ms/step - loss: 0.4204 - accuracy: 0.8163 - val_loss: 0.4119 - val_accuracy: 0.8250\n",
            "Epoch 1/5\n",
            "250/250 [==============================] - 1s 3ms/step - loss: 0.5561 - accuracy: 0.7906 - val_loss: 0.4913 - val_accuracy: 0.7975\n",
            "Epoch 2/5\n",
            "250/250 [==============================] - 1s 2ms/step - loss: 0.4680 - accuracy: 0.7974 - val_loss: 0.4471 - val_accuracy: 0.8045\n",
            "Epoch 3/5\n",
            "250/250 [==============================] - 1s 2ms/step - loss: 0.4400 - accuracy: 0.8056 - val_loss: 0.4277 - val_accuracy: 0.8145\n",
            "Epoch 4/5\n",
            "250/250 [==============================] - 1s 2ms/step - loss: 0.4263 - accuracy: 0.8158 - val_loss: 0.4169 - val_accuracy: 0.8235\n",
            "Epoch 5/5\n",
            "250/250 [==============================] - 1s 2ms/step - loss: 0.4178 - accuracy: 0.8195 - val_loss: 0.4092 - val_accuracy: 0.8255\n",
            "Epoch 1/5\n",
            "250/250 [==============================] - 1s 3ms/step - loss: 0.5504 - accuracy: 0.7796 - val_loss: 0.4880 - val_accuracy: 0.7985\n",
            "Epoch 2/5\n",
            "250/250 [==============================] - 1s 3ms/step - loss: 0.4619 - accuracy: 0.7994 - val_loss: 0.4468 - val_accuracy: 0.8075\n",
            "Epoch 3/5\n",
            "250/250 [==============================] - 1s 2ms/step - loss: 0.4370 - accuracy: 0.8084 - val_loss: 0.4290 - val_accuracy: 0.8175\n",
            "Epoch 4/5\n",
            "250/250 [==============================] - 1s 3ms/step - loss: 0.4248 - accuracy: 0.8145 - val_loss: 0.4186 - val_accuracy: 0.8240\n",
            "Epoch 5/5\n",
            "250/250 [==============================] - 1s 3ms/step - loss: 0.4168 - accuracy: 0.8185 - val_loss: 0.4108 - val_accuracy: 0.8265\n"
          ],
          "name": "stdout"
        },
        {
          "output_type": "display_data",
          "data": {
            "text/html": [
              "<span style=\"color:#4527A0\"><h1 style=\"font-size:18px\">Trial complete</h1></span>"
            ],
            "text/plain": [
              "<IPython.core.display.HTML object>"
            ]
          },
          "metadata": {
            "tags": []
          }
        },
        {
          "output_type": "display_data",
          "data": {
            "text/html": [
              "<span style=\"color:#4527A0\"><h1 style=\"font-size:18px\">Trial summary</h1></span>"
            ],
            "text/plain": [
              "<IPython.core.display.HTML object>"
            ]
          },
          "metadata": {
            "tags": []
          }
        },
        {
          "output_type": "display_data",
          "data": {
            "text/html": [
              "<span style=\"color:cyan\"> |-Trial ID: e6f2b1100f986ce4a97393a9edab3e18</span>"
            ],
            "text/plain": [
              "<IPython.core.display.HTML object>"
            ]
          },
          "metadata": {
            "tags": []
          }
        },
        {
          "output_type": "display_data",
          "data": {
            "text/html": [
              "<span style=\"color:cyan\"> |-Score: 0.8256666660308838</span>"
            ],
            "text/plain": [
              "<IPython.core.display.HTML object>"
            ]
          },
          "metadata": {
            "tags": []
          }
        },
        {
          "output_type": "display_data",
          "data": {
            "text/html": [
              "<span style=\"color:cyan\"> |-Best step: 0</span>"
            ],
            "text/plain": [
              "<IPython.core.display.HTML object>"
            ]
          },
          "metadata": {
            "tags": []
          }
        },
        {
          "output_type": "display_data",
          "data": {
            "text/html": [
              "<span style=\"color:#7E57C2\"><h2 style=\"font-size:16px\">Hyperparameters:</h2></span>"
            ],
            "text/plain": [
              "<IPython.core.display.HTML object>"
            ]
          },
          "metadata": {
            "tags": []
          }
        },
        {
          "output_type": "display_data",
          "data": {
            "text/html": [
              "<span style=\"color:cyan\"> |-learning_rate: 0.0001</span>"
            ],
            "text/plain": [
              "<IPython.core.display.HTML object>"
            ]
          },
          "metadata": {
            "tags": []
          }
        },
        {
          "output_type": "display_data",
          "data": {
            "text/html": [
              "<span style=\"color:blue\"> |-units: 288</span>"
            ],
            "text/plain": [
              "<IPython.core.display.HTML object>"
            ]
          },
          "metadata": {
            "tags": []
          }
        },
        {
          "output_type": "stream",
          "text": [
            "INFO:tensorflow:Oracle triggered exit\n"
          ],
          "name": "stdout"
        }
      ]
    },
    {
      "cell_type": "code",
      "metadata": {
        "id": "LKslKVV9gfa_",
        "colab_type": "code",
        "colab": {
          "base_uri": "https://localhost:8080/",
          "height": 275
        },
        "outputId": "ba521c85-a4e8-4256-8eeb-65e7adc3fe6a"
      },
      "source": [
        "models = tuner.get_best_models(num_models=2)\n",
        "models"
      ],
      "execution_count": 24,
      "outputs": [
        {
          "output_type": "stream",
          "text": [
            "WARNING:tensorflow:Unresolved object in checkpoint: (root).optimizer.iter\n",
            "WARNING:tensorflow:Unresolved object in checkpoint: (root).optimizer.beta_1\n",
            "WARNING:tensorflow:Unresolved object in checkpoint: (root).optimizer.beta_2\n",
            "WARNING:tensorflow:Unresolved object in checkpoint: (root).optimizer.decay\n",
            "WARNING:tensorflow:Unresolved object in checkpoint: (root).optimizer.learning_rate\n",
            "WARNING:tensorflow:A checkpoint was restored (e.g. tf.train.Checkpoint.restore or tf.keras.Model.load_weights) but not all checkpointed values were used. See above for specific issues. Use expect_partial() on the load status object, e.g. tf.train.Checkpoint.restore(...).expect_partial(), to silence these warnings, or use assert_consumed() to make the check explicit. See https://www.tensorflow.org/guide/checkpoint#loading_mechanics for details.\n",
            "WARNING:tensorflow:Unresolved object in checkpoint: (root).optimizer.iter\n",
            "WARNING:tensorflow:Unresolved object in checkpoint: (root).optimizer.beta_1\n",
            "WARNING:tensorflow:Unresolved object in checkpoint: (root).optimizer.beta_2\n",
            "WARNING:tensorflow:Unresolved object in checkpoint: (root).optimizer.decay\n",
            "WARNING:tensorflow:Unresolved object in checkpoint: (root).optimizer.learning_rate\n",
            "WARNING:tensorflow:A checkpoint was restored (e.g. tf.train.Checkpoint.restore or tf.keras.Model.load_weights) but not all checkpointed values were used. See above for specific issues. Use expect_partial() on the load status object, e.g. tf.train.Checkpoint.restore(...).expect_partial(), to silence these warnings, or use assert_consumed() to make the check explicit. See https://www.tensorflow.org/guide/checkpoint#loading_mechanics for details.\n"
          ],
          "name": "stdout"
        },
        {
          "output_type": "execute_result",
          "data": {
            "text/plain": [
              "[<tensorflow.python.keras.engine.sequential.Sequential at 0x7f2b1b4d98d0>,\n",
              " <tensorflow.python.keras.engine.sequential.Sequential at 0x7f2b22404a20>]"
            ]
          },
          "metadata": {
            "tags": []
          },
          "execution_count": 24
        }
      ]
    },
    {
      "cell_type": "code",
      "metadata": {
        "id": "2GQdjkALggQ3",
        "colab_type": "code",
        "colab": {
          "base_uri": "https://localhost:8080/",
          "height": 903
        },
        "outputId": "b5c888b3-30f6-472f-91a1-2f0d95aab2a9"
      },
      "source": [
        "tuner.results_summary()"
      ],
      "execution_count": 23,
      "outputs": [
        {
          "output_type": "display_data",
          "data": {
            "text/html": [
              "<span style=\"color:#4527A0\"><h1 style=\"font-size:18px\">Results summary</h1></span>"
            ],
            "text/plain": [
              "<IPython.core.display.HTML object>"
            ]
          },
          "metadata": {
            "tags": []
          }
        },
        {
          "output_type": "display_data",
          "data": {
            "text/html": [
              "<span style=\"color:cyan\"> |-Results in my_dir/test_pro</span>"
            ],
            "text/plain": [
              "<IPython.core.display.HTML object>"
            ]
          },
          "metadata": {
            "tags": []
          }
        },
        {
          "output_type": "display_data",
          "data": {
            "text/html": [
              "<span style=\"color:cyan\"> |-Showing 10 best trials</span>"
            ],
            "text/plain": [
              "<IPython.core.display.HTML object>"
            ]
          },
          "metadata": {
            "tags": []
          }
        },
        {
          "output_type": "display_data",
          "data": {
            "text/html": [
              "<span style=\"color:cyan\"> |-Objective(name='val_accuracy', direction='max')</span>"
            ],
            "text/plain": [
              "<IPython.core.display.HTML object>"
            ]
          },
          "metadata": {
            "tags": []
          }
        },
        {
          "output_type": "display_data",
          "data": {
            "text/html": [
              "<span style=\"color:#4527A0\"><h1 style=\"font-size:18px\">Trial summary</h1></span>"
            ],
            "text/plain": [
              "<IPython.core.display.HTML object>"
            ]
          },
          "metadata": {
            "tags": []
          }
        },
        {
          "output_type": "display_data",
          "data": {
            "text/html": [
              "<span style=\"color:cyan\"> |-Trial ID: 499b00ccd50ebe2bfdac85a636f28338</span>"
            ],
            "text/plain": [
              "<IPython.core.display.HTML object>"
            ]
          },
          "metadata": {
            "tags": []
          }
        },
        {
          "output_type": "display_data",
          "data": {
            "text/html": [
              "<span style=\"color:cyan\"> |-Score: 0.8659999966621399</span>"
            ],
            "text/plain": [
              "<IPython.core.display.HTML object>"
            ]
          },
          "metadata": {
            "tags": []
          }
        },
        {
          "output_type": "display_data",
          "data": {
            "text/html": [
              "<span style=\"color:cyan\"> |-Best step: 0</span>"
            ],
            "text/plain": [
              "<IPython.core.display.HTML object>"
            ]
          },
          "metadata": {
            "tags": []
          }
        },
        {
          "output_type": "display_data",
          "data": {
            "text/html": [
              "<span style=\"color:#7E57C2\"><h2 style=\"font-size:16px\">Hyperparameters:</h2></span>"
            ],
            "text/plain": [
              "<IPython.core.display.HTML object>"
            ]
          },
          "metadata": {
            "tags": []
          }
        },
        {
          "output_type": "display_data",
          "data": {
            "text/html": [
              "<span style=\"color:cyan\"> |-learning_rate: 0.01</span>"
            ],
            "text/plain": [
              "<IPython.core.display.HTML object>"
            ]
          },
          "metadata": {
            "tags": []
          }
        },
        {
          "output_type": "display_data",
          "data": {
            "text/html": [
              "<span style=\"color:blue\"> |-units: 256</span>"
            ],
            "text/plain": [
              "<IPython.core.display.HTML object>"
            ]
          },
          "metadata": {
            "tags": []
          }
        },
        {
          "output_type": "display_data",
          "data": {
            "text/html": [
              "<span style=\"color:#4527A0\"><h1 style=\"font-size:18px\">Trial summary</h1></span>"
            ],
            "text/plain": [
              "<IPython.core.display.HTML object>"
            ]
          },
          "metadata": {
            "tags": []
          }
        },
        {
          "output_type": "display_data",
          "data": {
            "text/html": [
              "<span style=\"color:cyan\"> |-Trial ID: f9313a15bdf56c707b0209a167b01e4b</span>"
            ],
            "text/plain": [
              "<IPython.core.display.HTML object>"
            ]
          },
          "metadata": {
            "tags": []
          }
        },
        {
          "output_type": "display_data",
          "data": {
            "text/html": [
              "<span style=\"color:cyan\"> |-Score: 0.8645000060399374</span>"
            ],
            "text/plain": [
              "<IPython.core.display.HTML object>"
            ]
          },
          "metadata": {
            "tags": []
          }
        },
        {
          "output_type": "display_data",
          "data": {
            "text/html": [
              "<span style=\"color:cyan\"> |-Best step: 0</span>"
            ],
            "text/plain": [
              "<IPython.core.display.HTML object>"
            ]
          },
          "metadata": {
            "tags": []
          }
        },
        {
          "output_type": "display_data",
          "data": {
            "text/html": [
              "<span style=\"color:#7E57C2\"><h2 style=\"font-size:16px\">Hyperparameters:</h2></span>"
            ],
            "text/plain": [
              "<IPython.core.display.HTML object>"
            ]
          },
          "metadata": {
            "tags": []
          }
        },
        {
          "output_type": "display_data",
          "data": {
            "text/html": [
              "<span style=\"color:cyan\"> |-learning_rate: 0.001</span>"
            ],
            "text/plain": [
              "<IPython.core.display.HTML object>"
            ]
          },
          "metadata": {
            "tags": []
          }
        },
        {
          "output_type": "display_data",
          "data": {
            "text/html": [
              "<span style=\"color:blue\"> |-units: 352</span>"
            ],
            "text/plain": [
              "<IPython.core.display.HTML object>"
            ]
          },
          "metadata": {
            "tags": []
          }
        },
        {
          "output_type": "display_data",
          "data": {
            "text/html": [
              "<span style=\"color:#4527A0\"><h1 style=\"font-size:18px\">Trial summary</h1></span>"
            ],
            "text/plain": [
              "<IPython.core.display.HTML object>"
            ]
          },
          "metadata": {
            "tags": []
          }
        },
        {
          "output_type": "display_data",
          "data": {
            "text/html": [
              "<span style=\"color:cyan\"> |-Trial ID: e7df0e47bec56c8d5a785306a714a93f</span>"
            ],
            "text/plain": [
              "<IPython.core.display.HTML object>"
            ]
          },
          "metadata": {
            "tags": []
          }
        },
        {
          "output_type": "display_data",
          "data": {
            "text/html": [
              "<span style=\"color:cyan\"> |-Score: 0.8611666560173035</span>"
            ],
            "text/plain": [
              "<IPython.core.display.HTML object>"
            ]
          },
          "metadata": {
            "tags": []
          }
        },
        {
          "output_type": "display_data",
          "data": {
            "text/html": [
              "<span style=\"color:cyan\"> |-Best step: 0</span>"
            ],
            "text/plain": [
              "<IPython.core.display.HTML object>"
            ]
          },
          "metadata": {
            "tags": []
          }
        },
        {
          "output_type": "display_data",
          "data": {
            "text/html": [
              "<span style=\"color:#7E57C2\"><h2 style=\"font-size:16px\">Hyperparameters:</h2></span>"
            ],
            "text/plain": [
              "<IPython.core.display.HTML object>"
            ]
          },
          "metadata": {
            "tags": []
          }
        },
        {
          "output_type": "display_data",
          "data": {
            "text/html": [
              "<span style=\"color:cyan\"> |-learning_rate: 0.001</span>"
            ],
            "text/plain": [
              "<IPython.core.display.HTML object>"
            ]
          },
          "metadata": {
            "tags": []
          }
        },
        {
          "output_type": "display_data",
          "data": {
            "text/html": [
              "<span style=\"color:blue\"> |-units: 64</span>"
            ],
            "text/plain": [
              "<IPython.core.display.HTML object>"
            ]
          },
          "metadata": {
            "tags": []
          }
        },
        {
          "output_type": "display_data",
          "data": {
            "text/html": [
              "<span style=\"color:#4527A0\"><h1 style=\"font-size:18px\">Trial summary</h1></span>"
            ],
            "text/plain": [
              "<IPython.core.display.HTML object>"
            ]
          },
          "metadata": {
            "tags": []
          }
        },
        {
          "output_type": "display_data",
          "data": {
            "text/html": [
              "<span style=\"color:cyan\"> |-Trial ID: e7da8b87a59e552878e7dc1b327dcf99</span>"
            ],
            "text/plain": [
              "<IPython.core.display.HTML object>"
            ]
          },
          "metadata": {
            "tags": []
          }
        },
        {
          "output_type": "display_data",
          "data": {
            "text/html": [
              "<span style=\"color:cyan\"> |-Score: 0.8276666601498922</span>"
            ],
            "text/plain": [
              "<IPython.core.display.HTML object>"
            ]
          },
          "metadata": {
            "tags": []
          }
        },
        {
          "output_type": "display_data",
          "data": {
            "text/html": [
              "<span style=\"color:cyan\"> |-Best step: 0</span>"
            ],
            "text/plain": [
              "<IPython.core.display.HTML object>"
            ]
          },
          "metadata": {
            "tags": []
          }
        },
        {
          "output_type": "display_data",
          "data": {
            "text/html": [
              "<span style=\"color:#7E57C2\"><h2 style=\"font-size:16px\">Hyperparameters:</h2></span>"
            ],
            "text/plain": [
              "<IPython.core.display.HTML object>"
            ]
          },
          "metadata": {
            "tags": []
          }
        },
        {
          "output_type": "display_data",
          "data": {
            "text/html": [
              "<span style=\"color:cyan\"> |-learning_rate: 0.0001</span>"
            ],
            "text/plain": [
              "<IPython.core.display.HTML object>"
            ]
          },
          "metadata": {
            "tags": []
          }
        },
        {
          "output_type": "display_data",
          "data": {
            "text/html": [
              "<span style=\"color:blue\"> |-units: 448</span>"
            ],
            "text/plain": [
              "<IPython.core.display.HTML object>"
            ]
          },
          "metadata": {
            "tags": []
          }
        },
        {
          "output_type": "display_data",
          "data": {
            "text/html": [
              "<span style=\"color:#4527A0\"><h1 style=\"font-size:18px\">Trial summary</h1></span>"
            ],
            "text/plain": [
              "<IPython.core.display.HTML object>"
            ]
          },
          "metadata": {
            "tags": []
          }
        },
        {
          "output_type": "display_data",
          "data": {
            "text/html": [
              "<span style=\"color:cyan\"> |-Trial ID: e6f2b1100f986ce4a97393a9edab3e18</span>"
            ],
            "text/plain": [
              "<IPython.core.display.HTML object>"
            ]
          },
          "metadata": {
            "tags": []
          }
        },
        {
          "output_type": "display_data",
          "data": {
            "text/html": [
              "<span style=\"color:cyan\"> |-Score: 0.8256666660308838</span>"
            ],
            "text/plain": [
              "<IPython.core.display.HTML object>"
            ]
          },
          "metadata": {
            "tags": []
          }
        },
        {
          "output_type": "display_data",
          "data": {
            "text/html": [
              "<span style=\"color:cyan\"> |-Best step: 0</span>"
            ],
            "text/plain": [
              "<IPython.core.display.HTML object>"
            ]
          },
          "metadata": {
            "tags": []
          }
        },
        {
          "output_type": "display_data",
          "data": {
            "text/html": [
              "<span style=\"color:#7E57C2\"><h2 style=\"font-size:16px\">Hyperparameters:</h2></span>"
            ],
            "text/plain": [
              "<IPython.core.display.HTML object>"
            ]
          },
          "metadata": {
            "tags": []
          }
        },
        {
          "output_type": "display_data",
          "data": {
            "text/html": [
              "<span style=\"color:cyan\"> |-learning_rate: 0.0001</span>"
            ],
            "text/plain": [
              "<IPython.core.display.HTML object>"
            ]
          },
          "metadata": {
            "tags": []
          }
        },
        {
          "output_type": "display_data",
          "data": {
            "text/html": [
              "<span style=\"color:blue\"> |-units: 288</span>"
            ],
            "text/plain": [
              "<IPython.core.display.HTML object>"
            ]
          },
          "metadata": {
            "tags": []
          }
        }
      ]
    }
  ]
}